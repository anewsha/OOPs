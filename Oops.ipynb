{
 "cells": [
  {
   "attachments": {},
   "cell_type": "markdown",
   "metadata": {},
   "source": [
    "## Inheritance\n",
    "1. single : Base class -> derived class\n",
    "2. Multiple: derived class from 2 Base class\n",
    "3. Multi level : Base class -> interm class -> derived class\n",
    "4. Hirarchial: Base class and multiple derived classes from it \n",
    "5. Diamond"
   ]
  },
  {
   "attachments": {},
   "cell_type": "markdown",
   "metadata": {},
   "source": [
    "### hirarchial"
   ]
  },
  {
   "cell_type": "code",
   "execution_count": 3,
   "metadata": {},
   "outputs": [],
   "source": [
    "class BaseClass:\n",
    "    def __init__(self, name):\n",
    "        self.name = name\n",
    "    \n",
    "    def sound(self):\n",
    "        return \"A basic sound that comes out. LoL\"\n",
    "\n",
    "class Cat(BaseClass):\n",
    "    def __init__(self, name):\n",
    "        BaseClass.__init__(self, name)\n",
    "    def sound(self):\n",
    "        return \"Meow\"\n",
    "\n",
    "class Dog(BaseClass):\n",
    "    def __init__(self, name):\n",
    "        BaseClass.__init__(self, name)\n",
    "    def sound(self):\n",
    "        return \"Bhow\""
   ]
  },
  {
   "cell_type": "code",
   "execution_count": 5,
   "metadata": {},
   "outputs": [
    {
     "data": {
      "text/plain": [
       "'Meow'"
      ]
     },
     "execution_count": 5,
     "metadata": {},
     "output_type": "execute_result"
    }
   ],
   "source": [
    "cat = Cat(\"billi\")\n",
    "cat.sound()"
   ]
  },
  {
   "cell_type": "code",
   "execution_count": 6,
   "metadata": {},
   "outputs": [
    {
     "data": {
      "text/plain": [
       "'Bhow'"
      ]
     },
     "execution_count": 6,
     "metadata": {},
     "output_type": "execute_result"
    }
   ],
   "source": [
    "dog = Dog(\"kutta\")\n",
    "dog.sound()"
   ]
  },
  {
   "attachments": {},
   "cell_type": "markdown",
   "metadata": {},
   "source": [
    "### Diamond"
   ]
  },
  {
   "cell_type": "code",
   "execution_count": 10,
   "metadata": {},
   "outputs": [],
   "source": [
    "class Person:\n",
    "    def __init__(self, name):\n",
    "        self.name = name \n",
    "    def show_details(self):\n",
    "        print(f\"My name is {self.name}\")\n",
    "    \n",
    "class Employee(Person):\n",
    "    def __init__(self, name, eid):\n",
    "        Person.__init__(self,name)\n",
    "        self.eid = eid\n",
    "    def show_details(self):\n",
    "        print(f\"My name is {self.name} and my emp id is {self.eid}\")\n",
    "    \n",
    "class Student(Person):\n",
    "    def __init__(self, name, roll):\n",
    "        Person.__init__(self,name)\n",
    "        self.roll = roll\n",
    "    def show_details(self):\n",
    "        print(f\"My name is {self.name} and my roll num is {self.roll}\")\n",
    "    \n",
    "class Intern(Student, Employee):\n",
    "    def __init__(self, name, eid ,roll):\n",
    "        Student.__init__(self, name, roll)\n",
    "        Employee.__init__(self,name, eid)\n",
    "\n",
    "    def show_details(self):\n",
    "        print(f\"My name is {self.name} and my roll num is {self.roll} and emp id is {self.eid}\")\n",
    "        "
   ]
  },
  {
   "cell_type": "code",
   "execution_count": 11,
   "metadata": {},
   "outputs": [
    {
     "name": "stdout",
     "output_type": "stream",
     "text": [
      "My name is anusha and my roll num is 21BML0056 and emp id is 99993458\n"
     ]
    }
   ],
   "source": [
    "intern = Intern(\"anusha\",99993458, \"21BML0056\")\n",
    "intern.show_details()"
   ]
  },
  {
   "cell_type": "code",
   "execution_count": 12,
   "metadata": {},
   "outputs": [
    {
     "name": "stdout",
     "output_type": "stream",
     "text": [
      "[<class '__main__.Intern'>, <class '__main__.Student'>, <class '__main__.Employee'>, <class '__main__.Person'>, <class 'object'>]\n"
     ]
    }
   ],
   "source": [
    "print(Intern.mro())"
   ]
  },
  {
   "cell_type": "code",
   "execution_count": 15,
   "metadata": {},
   "outputs": [],
   "source": [
    "class Person:\n",
    "    def __init__(self, name, *args):\n",
    "        self.name = name \n",
    "    def show_details(self):\n",
    "        print(f\"My name is {self.name}\")\n",
    "    \n",
    "class Employee(Person):\n",
    "    def __init__(self, name, eid,*args):\n",
    "        super().__init__(name,*args)\n",
    "        self.eid = eid\n",
    "    def show_details(self):\n",
    "        super().show_details()\n",
    "        print(f\"My name is {self.name} and my emp id is {self.eid}\")\n",
    "    \n",
    "class Student(Person):\n",
    "    def __init__(self, name, roll,*args):\n",
    "        super().__init__(name,*args)\n",
    "        self.roll = roll\n",
    "    def show_details(self):\n",
    "        super().show_details()\n",
    "        print(f\"My name is {self.name} and my roll num is {self.roll}\")\n",
    "    \n",
    "class Intern(Student, Employee):\n",
    "    def __init__(self, name,roll,eid ):\n",
    "        super().__init__(name, roll, eid)\n",
    "\n",
    "    def show_details(self):\n",
    "        super().show_details()\n",
    "        "
   ]
  },
  {
   "cell_type": "code",
   "execution_count": 16,
   "metadata": {},
   "outputs": [
    {
     "name": "stdout",
     "output_type": "stream",
     "text": [
      "My name is anusha\n",
      "My name is anusha and my emp id is 21BML0056\n",
      "My name is anusha and my roll num is 99993458\n"
     ]
    }
   ],
   "source": [
    "intern = Intern(\"anusha\",99993458, \"21BML0056\")\n",
    "intern.show_details()"
   ]
  },
  {
   "attachments": {},
   "cell_type": "markdown",
   "metadata": {},
   "source": [
    "## Polymorphism\n",
    "\n",
    "- Method overloading (not in python, can mimic using **kwargs or default value)\n",
    "- Method overriding "
   ]
  },
  {
   "cell_type": "code",
   "execution_count": 24,
   "metadata": {},
   "outputs": [
    {
     "name": "stdout",
     "output_type": "stream",
     "text": [
      "hehekhe khe hu hu\n"
     ]
    }
   ],
   "source": [
    "class laughter:\n",
    "    def __init__(self, sound):\n",
    "        self.sound = sound\n",
    "    def laugh(self,**kwargs):\n",
    "        extras = \" \".join(kwargs.values())\n",
    "        return self.sound + extras\n",
    "\n",
    "class hehe(laughter):\n",
    "    def __init__(self, sound, **kwargs):\n",
    "        super().__init__(sound)\n",
    "        self.extras = \" \".join(kwargs.values())\n",
    "        \n",
    "\n",
    "haha = hehe(\"hehe\")\n",
    "print(haha.laugh(khke=\"khe khe\", huhu=\"hu hu\"))\n",
    "            "
   ]
  },
  {
   "attachments": {},
   "cell_type": "markdown",
   "metadata": {},
   "source": [
    "## encapsulation\n",
    "\n",
    "- protecting the data and giving only access to required to code\n",
    "- internal works are hidden \n",
    "\n",
    "- ACCESS MODIFIERS: private( _ ), Protected ( _ _ ), public "
   ]
  },
  {
   "cell_type": "code",
   "execution_count": 25,
   "metadata": {},
   "outputs": [
    {
     "data": {
      "text/plain": [
       "6"
      ]
     },
     "execution_count": 25,
     "metadata": {},
     "output_type": "execute_result"
    }
   ],
   "source": [
    "class quadratic:\n",
    "    def __init__(self, a,b,c):\n",
    "        self.a = a\n",
    "        self.b = b\n",
    "        self.c = c\n",
    "        \n",
    "    def eval(self,x):\n",
    "        return x**2 *self.a + x*self.b + self.c\n",
    "    def __add__(self,other):\n",
    "        return quadratic(self.a+other.a , self.b+other.b, self.c+other.c)\n",
    "    \n",
    "    def __contains__(self,m): #invoked by in\n",
    "        if (m==self.a or m==self.b or m==self.c):\n",
    "            return True\n",
    "        else:\n",
    "            False\n",
    "        \n",
    "quad = quadratic(2,3,1)\n",
    "#only interact with .eval \n",
    "quad.eval(1)"
   ]
  },
  {
   "cell_type": "code",
   "execution_count": 28,
   "metadata": {},
   "outputs": [
    {
     "name": "stdout",
     "output_type": "stream",
     "text": [
      "I am publicly available to all in this code\n",
      "I am a public method\n"
     ]
    }
   ],
   "source": [
    "class MyClass:\n",
    "    def __init__(haha):\n",
    "        haha.public_att = \"I am publicly available to all in this code\"\n",
    "    \n",
    "    def public_method(haha):\n",
    "        return \"I am a public method\"\n",
    "\n",
    "myclass = MyClass()\n",
    "print(myclass.public_att)\n",
    "print(myclass.public_method())"
   ]
  },
  {
   "cell_type": "code",
   "execution_count": null,
   "metadata": {},
   "outputs": [],
   "source": []
  }
 ],
 "metadata": {
  "kernelspec": {
   "display_name": "Python 3",
   "language": "python",
   "name": "python3"
  },
  "language_info": {
   "codemirror_mode": {
    "name": "ipython",
    "version": 3
   },
   "file_extension": ".py",
   "mimetype": "text/x-python",
   "name": "python",
   "nbconvert_exporter": "python",
   "pygments_lexer": "ipython3",
   "version": "3.13.7"
  },
  "orig_nbformat": 4
 },
 "nbformat": 4,
 "nbformat_minor": 2
}
