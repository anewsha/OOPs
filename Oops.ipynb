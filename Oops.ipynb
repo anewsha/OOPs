{
 "cells": [
  {
   "attachments": {},
   "cell_type": "markdown",
   "metadata": {},
   "source": [
    "## Inheritance\n",
    "1. single : Base class -> derived class\n",
    "2. Multiple: derived class from 2 Base class\n",
    "3. Multi level : Base class -> interm class -> derived class\n",
    "4. Hirarchial: Base class and multiple derived classes from it \n",
    "5. Diamond"
   ]
  },
  {
   "attachments": {},
   "cell_type": "markdown",
   "metadata": {},
   "source": [
    "### hirarchial"
   ]
  },
  {
   "cell_type": "code",
   "execution_count": 3,
   "metadata": {},
   "outputs": [],
   "source": [
    "class BaseClass:\n",
    "    def __init__(self, name):\n",
    "        self.name = name\n",
    "    \n",
    "    def sound(self):\n",
    "        return \"A basic sound that comes out. LoL\"\n",
    "\n",
    "class Cat(BaseClass):\n",
    "    def __init__(self, name):\n",
    "        BaseClass.__init__(self, name)\n",
    "    def sound(self):\n",
    "        return \"Meow\"\n",
    "\n",
    "class Dog(BaseClass):\n",
    "    def __init__(self, name):\n",
    "        BaseClass.__init__(self, name)\n",
    "    def sound(self):\n",
    "        return \"Bhow\""
   ]
  },
  {
   "cell_type": "code",
   "execution_count": 5,
   "metadata": {},
   "outputs": [
    {
     "data": {
      "text/plain": [
       "'Meow'"
      ]
     },
     "execution_count": 5,
     "metadata": {},
     "output_type": "execute_result"
    }
   ],
   "source": [
    "cat = Cat(\"billi\")\n",
    "cat.sound()"
   ]
  },
  {
   "cell_type": "code",
   "execution_count": 6,
   "metadata": {},
   "outputs": [
    {
     "data": {
      "text/plain": [
       "'Bhow'"
      ]
     },
     "execution_count": 6,
     "metadata": {},
     "output_type": "execute_result"
    }
   ],
   "source": [
    "dog = Dog(\"kutta\")\n",
    "dog.sound()"
   ]
  },
  {
   "attachments": {},
   "cell_type": "markdown",
   "metadata": {},
   "source": [
    "### Diamond"
   ]
  },
  {
   "cell_type": "code",
   "execution_count": 10,
   "metadata": {},
   "outputs": [],
   "source": [
    "class Person:\n",
    "    def __init__(self, name):\n",
    "        self.name = name \n",
    "    def show_details(self):\n",
    "        print(f\"My name is {self.name}\")\n",
    "    \n",
    "class Employee(Person):\n",
    "    def __init__(self, name, eid):\n",
    "        Person.__init__(self,name)\n",
    "        self.eid = eid\n",
    "    def show_details(self):\n",
    "        print(f\"My name is {self.name} and my emp id is {self.eid}\")\n",
    "    \n",
    "class Student(Person):\n",
    "    def __init__(self, name, roll):\n",
    "        Person.__init__(self,name)\n",
    "        self.roll = roll\n",
    "    def show_details(self):\n",
    "        print(f\"My name is {self.name} and my roll num is {self.roll}\")\n",
    "    \n",
    "class Intern(Student, Employee):\n",
    "    def __init__(self, name, eid ,roll):\n",
    "        Student.__init__(self, name, roll)\n",
    "        Employee.__init__(self,name, eid)\n",
    "\n",
    "    def show_details(self):\n",
    "        print(f\"My name is {self.name} and my roll num is {self.roll} and emp id is {self.eid}\")\n",
    "        "
   ]
  },
  {
   "cell_type": "code",
   "execution_count": 11,
   "metadata": {},
   "outputs": [
    {
     "name": "stdout",
     "output_type": "stream",
     "text": [
      "My name is anusha and my roll num is 21BML0056 and emp id is 99993458\n"
     ]
    }
   ],
   "source": [
    "intern = Intern(\"anusha\",99993458, \"21BML0056\")\n",
    "intern.show_details()"
   ]
  },
  {
   "cell_type": "code",
   "execution_count": 12,
   "metadata": {},
   "outputs": [
    {
     "name": "stdout",
     "output_type": "stream",
     "text": [
      "[<class '__main__.Intern'>, <class '__main__.Student'>, <class '__main__.Employee'>, <class '__main__.Person'>, <class 'object'>]\n"
     ]
    }
   ],
   "source": [
    "print(Intern.mro())"
   ]
  },
  {
   "cell_type": "code",
   "execution_count": 13,
   "metadata": {},
   "outputs": [],
   "source": [
    "class Person:\n",
    "    def __init__(self, name):\n",
    "        self.name = name \n",
    "    def show_details(self):\n",
    "        print(f\"My name is {self.name}\")\n",
    "    \n",
    "class Employee(Person):\n",
    "    def __init__(self, name, eid):\n",
    "        super().__init__(name)\n",
    "        self.eid = eid\n",
    "    def show_details(self):\n",
    "        super().show_details()\n",
    "        print(f\"My name is {self.name} and my emp id is {self.eid}\")\n",
    "    \n",
    "class Student(Person):\n",
    "    def __init__(self, name, roll):\n",
    "        super().__init__(name)\n",
    "        self.roll = roll\n",
    "    def show_details(self):\n",
    "        super().show_details()\n",
    "        print(f\"My name is {self.name} and my roll num is {self.roll}\")\n",
    "    \n",
    "class Intern(Student, Employee):\n",
    "    def __init__(self, name,roll,eid ):\n",
    "        super().__init__(name, roll, eid)\n",
    "\n",
    "    def show_details(self):\n",
    "        super().show_details()\n",
    "        "
   ]
  },
  {
   "cell_type": "code",
   "execution_count": 14,
   "metadata": {},
   "outputs": [
    {
     "ename": "TypeError",
     "evalue": "Student.__init__() takes 3 positional arguments but 4 were given",
     "output_type": "error",
     "traceback": [
      "\u001b[31m---------------------------------------------------------------------------\u001b[39m",
      "\u001b[31mTypeError\u001b[39m                                 Traceback (most recent call last)",
      "\u001b[36mCell\u001b[39m\u001b[36m \u001b[39m\u001b[32mIn[14]\u001b[39m\u001b[32m, line 1\u001b[39m\n\u001b[32m----> \u001b[39m\u001b[32m1\u001b[39m intern = \u001b[43mIntern\u001b[49m\u001b[43m(\u001b[49m\u001b[33;43m\"\u001b[39;49m\u001b[33;43manusha\u001b[39;49m\u001b[33;43m\"\u001b[39;49m\u001b[43m,\u001b[49m\u001b[32;43m99993458\u001b[39;49m\u001b[43m,\u001b[49m\u001b[43m \u001b[49m\u001b[33;43m\"\u001b[39;49m\u001b[33;43m21BML0056\u001b[39;49m\u001b[33;43m\"\u001b[39;49m\u001b[43m)\u001b[49m\n\u001b[32m      2\u001b[39m intern.show_details()\n",
      "\u001b[36mCell\u001b[39m\u001b[36m \u001b[39m\u001b[32mIn[13]\u001b[39m\u001b[32m, line 25\u001b[39m, in \u001b[36mIntern.__init__\u001b[39m\u001b[34m(self, name, roll, eid)\u001b[39m\n\u001b[32m     24\u001b[39m \u001b[38;5;28;01mdef\u001b[39;00m\u001b[38;5;250m \u001b[39m\u001b[34m__init__\u001b[39m(\u001b[38;5;28mself\u001b[39m, name,roll,eid ):\n\u001b[32m---> \u001b[39m\u001b[32m25\u001b[39m     \u001b[38;5;28;43msuper\u001b[39;49m\u001b[43m(\u001b[49m\u001b[43m)\u001b[49m\u001b[43m.\u001b[49m\u001b[34;43m__init__\u001b[39;49m\u001b[43m(\u001b[49m\u001b[43mname\u001b[49m\u001b[43m,\u001b[49m\u001b[43m \u001b[49m\u001b[43mroll\u001b[49m\u001b[43m,\u001b[49m\u001b[43m \u001b[49m\u001b[43meid\u001b[49m\u001b[43m)\u001b[49m\n",
      "\u001b[31mTypeError\u001b[39m: Student.__init__() takes 3 positional arguments but 4 were given"
     ]
    }
   ],
   "source": [
    "intern = Intern(\"anusha\",99993458, \"21BML0056\")\n",
    "intern.show_details()"
   ]
  },
  {
   "cell_type": "code",
   "execution_count": null,
   "metadata": {},
   "outputs": [],
   "source": []
  }
 ],
 "metadata": {
  "kernelspec": {
   "display_name": "Python 3",
   "language": "python",
   "name": "python3"
  },
  "language_info": {
   "codemirror_mode": {
    "name": "ipython",
    "version": 3
   },
   "file_extension": ".py",
   "mimetype": "text/x-python",
   "name": "python",
   "nbconvert_exporter": "python",
   "pygments_lexer": "ipython3",
   "version": "3.13.7"
  },
  "orig_nbformat": 4
 },
 "nbformat": 4,
 "nbformat_minor": 2
}
